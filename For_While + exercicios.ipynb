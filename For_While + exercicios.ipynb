{
 "cells": [
  {
   "cell_type": "markdown",
   "id": "7c6c1344",
   "metadata": {},
   "source": [
    "## For"
   ]
  },
  {
   "cell_type": "code",
   "execution_count": 1,
   "id": "df53ab1e",
   "metadata": {},
   "outputs": [
    {
     "name": "stdout",
     "output_type": "stream",
     "text": [
      "0\n",
      "1\n",
      "2\n",
      "3\n",
      "4\n",
      "5\n",
      "6\n",
      "7\n",
      "8\n",
      "9\n",
      "10\n",
      "11\n",
      "12\n",
      "13\n",
      "14\n",
      "15\n",
      "16\n",
      "17\n",
      "18\n",
      "19\n",
      "20\n",
      "21\n",
      "22\n",
      "23\n",
      "24\n",
      "25\n",
      "26\n",
      "27\n",
      "28\n",
      "29\n",
      "30\n",
      "31\n",
      "32\n",
      "33\n",
      "34\n",
      "35\n",
      "36\n",
      "37\n",
      "38\n",
      "39\n",
      "40\n",
      "41\n",
      "42\n",
      "43\n",
      "44\n",
      "45\n",
      "46\n",
      "47\n",
      "48\n",
      "49\n",
      "50\n",
      "51\n",
      "52\n",
      "53\n",
      "54\n",
      "55\n",
      "56\n",
      "57\n",
      "58\n",
      "59\n",
      "60\n",
      "61\n",
      "62\n",
      "63\n",
      "64\n",
      "65\n",
      "66\n",
      "67\n",
      "68\n",
      "69\n",
      "70\n",
      "71\n",
      "72\n",
      "73\n",
      "74\n",
      "75\n",
      "76\n",
      "77\n",
      "78\n",
      "79\n",
      "80\n",
      "81\n",
      "82\n",
      "83\n",
      "84\n",
      "85\n",
      "86\n",
      "87\n",
      "88\n",
      "89\n",
      "90\n",
      "91\n",
      "92\n",
      "93\n",
      "94\n",
      "95\n",
      "96\n",
      "97\n",
      "98\n",
      "99\n"
     ]
    }
   ],
   "source": [
    "for x in range(100):\n",
    "    print(x)"
   ]
  },
  {
   "cell_type": "code",
   "execution_count": 2,
   "id": "f0f27006",
   "metadata": {},
   "outputs": [
    {
     "name": "stdout",
     "output_type": "stream",
     "text": [
      "1\n",
      "2\n",
      "3\n",
      "4\n",
      "5\n",
      "6\n",
      "7\n",
      "8\n",
      "9\n",
      "10\n",
      "11\n",
      "12\n",
      "13\n",
      "14\n",
      "15\n",
      "16\n",
      "17\n",
      "18\n",
      "19\n",
      "20\n",
      "21\n",
      "22\n",
      "23\n",
      "24\n",
      "25\n",
      "26\n",
      "27\n",
      "28\n",
      "29\n",
      "30\n",
      "31\n",
      "32\n",
      "33\n",
      "34\n",
      "35\n",
      "36\n",
      "37\n",
      "38\n",
      "39\n",
      "40\n",
      "41\n",
      "42\n",
      "43\n",
      "44\n",
      "45\n",
      "46\n",
      "47\n",
      "48\n",
      "49\n",
      "50\n",
      "51\n",
      "52\n",
      "53\n",
      "54\n",
      "55\n",
      "56\n",
      "57\n",
      "58\n",
      "59\n",
      "60\n",
      "61\n",
      "62\n",
      "63\n",
      "64\n",
      "65\n",
      "66\n",
      "67\n",
      "68\n",
      "69\n",
      "70\n",
      "71\n",
      "72\n",
      "73\n",
      "74\n",
      "75\n",
      "76\n",
      "77\n",
      "78\n",
      "79\n",
      "80\n",
      "81\n",
      "82\n",
      "83\n",
      "84\n",
      "85\n",
      "86\n",
      "87\n",
      "88\n",
      "89\n",
      "90\n",
      "91\n",
      "92\n",
      "93\n",
      "94\n",
      "95\n",
      "96\n",
      "97\n",
      "98\n",
      "99\n"
     ]
    }
   ],
   "source": [
    "for y in range(1, 100):\n",
    "    print(y)"
   ]
  },
  {
   "cell_type": "code",
   "execution_count": 6,
   "id": "4a863ab3",
   "metadata": {},
   "outputs": [
    {
     "name": "stdout",
     "output_type": "stream",
     "text": [
      "Digite um numero: 5\n",
      "1 0\n",
      "2 1\n",
      "3 2\n",
      "4 1\n",
      "5 0\n",
      "Numero 5 primo\n"
     ]
    }
   ],
   "source": [
    "#Se o número é primo\n",
    "a = int(input('Digite um numero: '))\n",
    "div = 0\n",
    "\n",
    "for ix in range(1, a+1):\n",
    "    resto = a % i\n",
    "    print(i, resto)\n",
    "    if resto == 0:\n",
    "        div += 1\n",
    "if div == 2:\n",
    "    print('Número {} é primo'.format(a))\n",
    "else:\n",
    "    print('Número {} não é primo'.format(a))"
   ]
  },
  {
   "cell_type": "code",
   "execution_count": 8,
   "id": "5e676c2f",
   "metadata": {},
   "outputs": [
    {
     "name": "stdout",
     "output_type": "stream",
     "text": [
      "2\n",
      "3\n",
      "5\n",
      "7\n",
      "11\n",
      "13\n",
      "17\n",
      "19\n",
      "23\n",
      "29\n",
      "31\n",
      "37\n",
      "41\n",
      "43\n",
      "47\n",
      "53\n",
      "59\n",
      "61\n",
      "67\n",
      "71\n",
      "73\n",
      "79\n",
      "83\n",
      "89\n",
      "97\n"
     ]
    }
   ],
   "source": [
    "#numeros primos entre 1 e 100\n",
    "\n",
    "for num in range(101):\n",
    "    div = 0\n",
    "    for x in range(1, num+1):\n",
    "        resto = num % x\n",
    "\n",
    "        if resto == 0:\n",
    "            div += 1\n",
    "    if div == 2:\n",
    "        print(num)\n"
   ]
  },
  {
   "cell_type": "code",
   "execution_count": 12,
   "id": "cc21a809",
   "metadata": {},
   "outputs": [
    {
     "name": "stdout",
     "output_type": "stream",
     "text": [
      "Digite um numero: 10\n",
      "2\n",
      "3\n",
      "5\n",
      "7\n"
     ]
    }
   ],
   "source": [
    "#numeros primos entre 1 e num inserido pelo usuário\n",
    "n = int(input('Digite um numero: '))\n",
    "\n",
    "for cont in range(n+1):\n",
    "    div = 0\n",
    "    for x in range(1, cont+1):\n",
    "        resto = cont % x\n",
    "\n",
    "        if resto == 0:\n",
    "            div += 1\n",
    "    if div == 2:\n",
    "        print(cont)"
   ]
  },
  {
   "cell_type": "markdown",
   "id": "288052d4",
   "metadata": {},
   "source": [
    "## While"
   ]
  },
  {
   "cell_type": "code",
   "execution_count": 11,
   "id": "7f596b9c",
   "metadata": {},
   "outputs": [
    {
     "name": "stdout",
     "output_type": "stream",
     "text": [
      "0\n",
      "1\n",
      "2\n",
      "3\n",
      "4\n",
      "5\n",
      "6\n",
      "7\n",
      "8\n",
      "9\n",
      "10\n"
     ]
    }
   ],
   "source": [
    "y = 0\n",
    "while y <= 10:\n",
    "    print(y)\n",
    "    y += 1"
   ]
  },
  {
   "cell_type": "code",
   "execution_count": 16,
   "id": "3beb8e40",
   "metadata": {},
   "outputs": [
    {
     "name": "stdout",
     "output_type": "stream",
     "text": [
      "Digite a primeira nota: 7.5\n",
      "Digite a primeira nota: 13\n",
      "Nota inválida. Digite a nota correta: 10\n",
      "Digite a primeira nota: 6.8\n",
      "A Média do aluno é: 8.1\n"
     ]
    }
   ],
   "source": [
    "#Calcular a média de um aluno. Avisar notas de valores inválidos\n",
    "\n",
    "n1 = float(input('Digite a primeira nota: '))\n",
    "while n1 > 10:\n",
    "    n1 = float(input('Nota inválida. Digite a nota correta: '))\n",
    "n2 = float(input('Digite a primeira nota: '))\n",
    "while n2 > 10:\n",
    "    n2 = float(input('Nota inválida. Digite a nota correta: '))\n",
    "n3 = float(input('Digite a primeira nota: '))\n",
    "while n3 > 10:\n",
    "    n3 = float(input('Nota inválida. Digite a nota correta: '))\n",
    "\n",
    "media = (n1+n2+n3)/3\n",
    "print('A Média do aluno é: {}'.format(media))\n"
   ]
  },
  {
   "cell_type": "code",
   "execution_count": 28,
   "id": "d2845ae9",
   "metadata": {},
   "outputs": [
    {
     "name": "stdout",
     "output_type": "stream",
     "text": [
      "8\n"
     ]
    }
   ],
   "source": [
    "result = 0\n",
    "for j in range(1, 10):\n",
    "    if j < 9:\n",
    "        result += 1\n",
    "print(result)"
   ]
  },
  {
   "cell_type": "code",
   "execution_count": null,
   "id": "a4ebe19b",
   "metadata": {},
   "outputs": [],
   "source": [
    "#Recebe os números do CPF, armazenando cada dígito em uma variável que receberá 1 único número de input e, a seguir, escrever o CPF com pontos e hífen, cujo print resultaria na expressão: \"123.123.123-70\". Avalie o código abaixo:\n",
    "\n",
    "a = input('Entre o número: ')\n",
    "b = input('Entre o número: ')\n",
    "b = input('Entre o número: ')\n",
    "c = input('Entre o número: ')\n",
    "d = input('Entre o número: ')\n",
    "e = input('Entre o número: ')\n",
    "f = input('Entre o número: ')\n",
    "g = input('Entre o número: ')\n",
    "h = input('Entre o número: ')\n",
    "i = input('Entre o número: ')\n",
    "j = input('Entre o número: ')\n",
    "k = input('Entre o número: ')\n",
    "print('{}{}{}.{}{}{}.{}{}{}-{}{}'.format(a,b,c,d,e,f,g,h,i,j,k))"
   ]
  },
  {
   "cell_type": "code",
   "execution_count": 1,
   "id": "f03a53f6",
   "metadata": {},
   "outputs": [
    {
     "data": {
      "text/plain": [
       "2"
      ]
     },
     "execution_count": 1,
     "metadata": {},
     "output_type": "execute_result"
    }
   ],
   "source": [
    "2"
   ]
  },
  {
   "cell_type": "markdown",
   "id": "2622047a",
   "metadata": {},
   "source": [
    "Introdução à Programação com Python - Digital Innovation Oce - Bootcamp Carrefour Data Engineer - Rafael Galleani "
   ]
  },
  {
   "cell_type": "code",
   "execution_count": null,
   "id": "aa07ea46",
   "metadata": {},
   "outputs": [],
   "source": []
  }
 ],
 "metadata": {
  "kernelspec": {
   "display_name": "Python 3",
   "language": "python",
   "name": "python3"
  },
  "language_info": {
   "codemirror_mode": {
    "name": "ipython",
    "version": 3
   },
   "file_extension": ".py",
   "mimetype": "text/x-python",
   "name": "python",
   "nbconvert_exporter": "python",
   "pygments_lexer": "ipython3",
   "version": "3.8.8"
  }
 },
 "nbformat": 4,
 "nbformat_minor": 5
}
