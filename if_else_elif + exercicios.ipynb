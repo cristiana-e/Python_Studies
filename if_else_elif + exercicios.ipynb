{
 "cells": [
  {
   "cell_type": "markdown",
   "id": "eaa5ebb0",
   "metadata": {},
   "source": [
    "## Introducing If, Else and Elif"
   ]
  },
  {
   "cell_type": "code",
   "execution_count": 3,
   "id": "6abc94cb",
   "metadata": {},
   "outputs": [
    {
     "name": "stdout",
     "output_type": "stream",
     "text": [
      "Primeiro Valor: 10\n",
      "Segundo valor: 2\n",
      "Terceiro valor: 25\n",
      "O maior numero é 25\n",
      "Final do programa\n"
     ]
    }
   ],
   "source": [
    "a = int (input ('Primeiro Valor: '))\n",
    "b = int(input('Segundo valor: '))\n",
    "c = int(input('Terceiro valor: '))\n",
    "\n",
    "if a > b and a > c:\n",
    "    print('O maior numero é {}'.format(a))\n",
    "elif b > a and  b > c:\n",
    "        print('O maior numero é {}'.format(b))\n",
    "else:\n",
    "    print('O maior numero é {}'.format(c))\n",
    "print('Final do programa')"
   ]
  },
  {
   "cell_type": "code",
   "execution_count": 6,
   "id": "e2acf89f",
   "metadata": {},
   "outputs": [
    {
     "name": "stdout",
     "output_type": "stream",
     "text": [
      "Entre com um valor: 7\n",
      "Entre com outro valor: 5\n",
      "Nenhum numero par foi digitado.\n"
     ]
    }
   ],
   "source": [
    "z = int(input('Entre com um valor: '))\n",
    "x = int(input('Entre com outro valor: '))\n",
    "\n",
    "restoZ = z % 2\n",
    "restoX = x % 2\n",
    "\n",
    "if restoZ == 0 or restoX == 0:\n",
    "    print('Um numero par foi digitado.')\n",
    "else:\n",
    "    print('Nenhum numero par foi digitado.')"
   ]
  },
  {
   "cell_type": "code",
   "execution_count": 8,
   "id": "60e890c4",
   "metadata": {},
   "outputs": [
    {
     "name": "stdout",
     "output_type": "stream",
     "text": [
      "5.0 0\n"
     ]
    }
   ],
   "source": [
    "a = 10 / 2\n",
    "b = 10 % 2\n",
    "print(a, b)"
   ]
  },
  {
   "cell_type": "code",
   "execution_count": 11,
   "id": "5ba0c405",
   "metadata": {},
   "outputs": [
    {
     "name": "stdout",
     "output_type": "stream",
     "text": [
      "9.375\n",
      "6\n"
     ]
    }
   ],
   "source": [
    "brigadeiros = 150\n",
    "pessoas = 16\n",
    "\n",
    "print(brigadeiros/pessoas)\n",
    "print(brigadeiros%pessoas)"
   ]
  },
  {
   "cell_type": "code",
   "execution_count": null,
   "id": "09099576",
   "metadata": {},
   "outputs": [],
   "source": [
    "n1 = 0\n",
    "n2 = 10\n",
    "n3 = 10\n",
    "\n",
    "media = (n1+n2+n3)/3\n",
    "print (media)"
   ]
  },
  {
   "cell_type": "code",
   "execution_count": 2,
   "id": "115d7cd5",
   "metadata": {},
   "outputs": [
    {
     "name": "stdout",
     "output_type": "stream",
     "text": [
      "afirmação falsa\n"
     ]
    }
   ],
   "source": [
    "if not 5==5:\n",
    "    print('afirmação verdadeira')\n",
    "else:\n",
    "    print('afirmação falsa')"
   ]
  },
  {
   "cell_type": "code",
   "execution_count": 3,
   "id": "e8d9dae8",
   "metadata": {},
   "outputs": [
    {
     "name": "stdout",
     "output_type": "stream",
     "text": [
      "Digite o primeito valor: 10\n",
      "Digite o primeito valor: 10\n",
      "O valor da soma é: 1010\n"
     ]
    }
   ],
   "source": [
    "k = input('Digite o primeito valor: ')\n",
    "l = input('Digite o primeito valor: ')\n",
    "soma = k + l\n",
    "print('O valor da soma é: {soma}'.format(soma=soma))"
   ]
  },
  {
   "cell_type": "code",
   "execution_count": null,
   "id": "739f59f4",
   "metadata": {},
   "outputs": [],
   "source": [
    "#Dado o trecho de código abaixo, qual o valor final da variável “resultado”?\n",
    "\n",
    "a = 0\n",
    "resultado = 'neutro'\n",
    "if a > 0:\n",
    "    resultado = 'positivo'\n",
    "elif a < 0:\n",
    "    resultado = 'negativo'\n",
    "a = resultado"
   ]
  },
  {
   "cell_type": "code",
   "execution_count": 5,
   "id": "b104c693",
   "metadata": {},
   "outputs": [],
   "source": [
    "# Uma estrofe da poesia intitulada Autopsicografia, de Fernando Pessoa, pode ser quebrada em 4 versos da seguinte forma:\n",
    "# linha1 = 'O poeta é um fingidor.'\n",
    "# linha2 = 'Finge tão completamente'\n",
    "# linha3 = 'Que chega a fingir que é dor'\n",
    "# linha4 = 'A dor que deveras sente.'\n",
    "\n",
    "# Não há obrigação de rimar o final de cada verso com o outro.\n",
    "# Sendo assim, avalie as afirmativas abaixo:\n",
    "# I - Um print unindo as 4 linhas dividas pelo caracter \\n forma a estrofe.\n",
    "# II - Cada variável acima representa 1 verso.\n",
    "# III - As strings das variáveis linha1 e linha3 rimam, bem como das linhas2 com linha4."
   ]
  },
  {
   "cell_type": "code",
   "execution_count": null,
   "id": "92c7ce81",
   "metadata": {},
   "outputs": [],
   "source": [
    "Introdução à Programação com Python - Digital Innovation Oce - Bootcamp Carrefour Data Engineer - Rafael Galleani "
   ]
  }
 ],
 "metadata": {
  "kernelspec": {
   "display_name": "Python 3",
   "language": "python",
   "name": "python3"
  },
  "language_info": {
   "codemirror_mode": {
    "name": "ipython",
    "version": 3
   },
   "file_extension": ".py",
   "mimetype": "text/x-python",
   "name": "python",
   "nbconvert_exporter": "python",
   "pygments_lexer": "ipython3",
   "version": "3.8.8"
  }
 },
 "nbformat": 4,
 "nbformat_minor": 5
}
